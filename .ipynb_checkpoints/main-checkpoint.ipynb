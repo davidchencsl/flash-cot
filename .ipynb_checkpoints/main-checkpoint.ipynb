{
 "cells": [
  {
   "cell_type": "code",
   "execution_count": 1,
   "metadata": {},
   "outputs": [],
   "source": [
    "import os\n",
    "import json\n",
    "\n",
    "from benchmark import benchmark"
   ]
  },
  {
   "cell_type": "code",
   "execution_count": 2,
   "metadata": {},
   "outputs": [
    {
     "name": "stdout",
     "output_type": "stream",
     "text": [
      "ARC-Challenge-Meta-Llama-3.1-70B-Instruct-INT8-CoT-True.json: 0.7734375\n",
      "ARC-Challenge-Meta-Llama-3.1-70B-Instruct-INT8-CoT-False.json: 0.765625\n"
     ]
    }
   ],
   "source": [
    "for file in os.listdir(\"./\"):\n",
    "    if file.endswith(\".json\"):\n",
    "        results = json.loads(open(file).read())\n",
    "        accuracy = sum([1 for result in results if result['is_correct']]) / len(results)\n",
    "        print(f\"{file}: {accuracy}\")\n"
   ]
  }
 ],
 "metadata": {
  "kernelspec": {
   "display_name": "base",
   "language": "python",
   "name": "python3"
  },
  "language_info": {
   "codemirror_mode": {
    "name": "ipython",
    "version": 3
   },
   "file_extension": ".py",
   "mimetype": "text/x-python",
   "name": "python",
   "nbconvert_exporter": "python",
   "pygments_lexer": "ipython3",
   "version": "3.12.2"
  }
 },
 "nbformat": 4,
 "nbformat_minor": 2
}
