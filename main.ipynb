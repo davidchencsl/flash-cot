{
 "cells": [
  {
   "cell_type": "code",
   "execution_count": null,
   "metadata": {
    "vscode": {
     "languageId": "plaintext"
    }
   },
   "outputs": [],
   "source": [
    "from benchmark import benchmark"
   ]
  },
  {
   "cell_type": "code",
   "execution_count": null,
   "metadata": {
    "vscode": {
     "languageId": "plaintext"
    }
   },
   "outputs": [],
   "source": [
    "benchmark(model_id=\"fsaudm/Meta-Llama-3.1-70B-Instruct-INT8\", dataset_id=\"ARC-Challenge\", use_cot=False, batch_size=4)\n",
    "benchmark(model_id=\"fsaudm/Meta-Llama-3.1-70B-Instruct-INT8\", dataset_id=\"ARC-Challenge\", use_cot=True, batch_size=4)\n",
    "benchmark(model_id=\"meta-llama/Llama-3.1-8B-Instruct\", dataset_id=\"ARC-Challenge\", use_cot=False, batch_size=128)\n",
    "benchmark(model_id=\"meta-llama/Llama-3.1-8B-Instruct\", dataset_id=\"ARC-Challenge\", use_cot=True, batch_size=128)"
   ]
  }
 ],
 "metadata": {
  "language_info": {
   "name": "python"
  }
 },
 "nbformat": 4,
 "nbformat_minor": 2
}
